{
 "cells": [
  {
   "cell_type": "code",
   "execution_count": 1,
   "id": "88ae7a3c-6501-4e6e-be5b-ea698668008f",
   "metadata": {},
   "outputs": [],
   "source": [
    "CATALOGUE = \"https://catalogue.dataspace.copernicus.eu/stac\""
   ]
  },
  {
   "cell_type": "code",
   "execution_count": 2,
   "id": "f59e5993-8705-4272-a586-5035857ac90a",
   "metadata": {},
   "outputs": [],
   "source": [
    "import requests\n",
    "import json\n",
    "from typing import Any\n",
    "from info import PASSWORD"
   ]
  },
  {
   "cell_type": "code",
   "execution_count": 42,
   "id": "3f197ff0-de6e-46eb-8ceb-a6d250ebb459",
   "metadata": {},
   "outputs": [],
   "source": [
    "def list_collections() -> list[str]:\n",
    "    collection_info = json.loads(requests.get(f\"{CATALOGUE}/collections\").content)\n",
    "    return [x['id'] for x in collection_info['collections']]\n",
    "\n",
    "def get_collection(collection_id: str) -> dict[str, Any]:\n",
    "    info = json.loads(requests.get(f\"{CATALOGUE}/collections/{collection_id}\").content)\n",
    "    return info\n",
    "\n",
    "def list_items(collection_id: str, bbox = None, datetime_from=None) -> list:\n",
    "    addition = ''\n",
    "    if bbox:\n",
    "        flattened = [x for xs in bbox for x in xs]\n",
    "        flattened = [str(x) for x in flattened]\n",
    "        new_part = ','.join(flattened)\n",
    "        new_part = 'bbox=' + new_part + '&'\n",
    "        addition += new_part\n",
    "    if datetime_from is not None:\n",
    "        time_str = f\"{datetime_from.isoformat()}/\"\n",
    "        new_part = f\"datetime={time_str}&\"\n",
    "        addition += new_part\n",
    "    string = f\"{CATALOGUE}/collections/{collection_id}/items?{addition}limit=50&sortby=+datetime\"\n",
    "    info = json.loads(requests.get(string).content)\n",
    "    return info['features']"
   ]
  },
  {
   "cell_type": "code",
   "execution_count": 43,
   "id": "6d4df409-8def-4821-81eb-f05329c2f015",
   "metadata": {
    "scrolled": true
   },
   "outputs": [
    {
     "data": {
      "text/plain": [
       "['COP-DEM',\n",
       " 'S2GLC',\n",
       " 'TERRAAQUA',\n",
       " 'SENTINEL-3',\n",
       " 'SENTINEL-5P',\n",
       " 'SENTINEL-1-RTC',\n",
       " 'SENTINEL-1',\n",
       " 'SMOS',\n",
       " 'LANDSAT-7',\n",
       " 'CCM',\n",
       " 'LANDSAT-5',\n",
       " 'LANDSAT-8',\n",
       " 'ENVISAT',\n",
       " 'SENTINEL-6',\n",
       " 'GLOBAL-MOSAICS',\n",
       " 'SENTINEL-2']"
      ]
     },
     "execution_count": 43,
     "metadata": {},
     "output_type": "execute_result"
    }
   ],
   "source": [
    "list_collections()"
   ]
  },
  {
   "cell_type": "markdown",
   "id": "91056dfb-45e5-4f90-a983-778352c5ee35",
   "metadata": {},
   "source": [
    "\n",
    "\n",
    "The approximate conversions are:\n",
    "\n",
    "    Latitude: 1 deg = 110.574 km\n",
    "    Longitude: 1 deg = 111.320*cos(latitude) km\n"
   ]
  },
  {
   "cell_type": "code",
   "execution_count": 44,
   "id": "06d7168d-2a12-433d-bb4f-3a26b3b76387",
   "metadata": {},
   "outputs": [],
   "source": [
    "import math"
   ]
  },
  {
   "cell_type": "code",
   "execution_count": 45,
   "id": "91f0c3b8-26bf-4f0f-9aea-22a614f51fce",
   "metadata": {},
   "outputs": [],
   "source": [
    "LATID_CHANGE = 1/110.574\n",
    "\n",
    "def long_change(latitude: float) -> float:\n",
    "    return 1 / 111.320 / math.cos(math.radians(latitude))\n",
    "def create_bounding_box(latitude, longitude, width) -> tuple[tuple[float, float]]:\n",
    "    half = width / 2.0\n",
    "    delta_latitude = half * LATID_CHANGE\n",
    "    delta_longitude = half * long_change(latitude)\n",
    "\n",
    "    return [(latitude + delta_latitude, longitude - delta_longitude),\n",
    "            (latitude + delta_latitude, longitude + delta_longitude),\n",
    "            (latitude - delta_latitude, longitude + delta_longitude),\n",
    "            (latitude - delta_latitude, longitude - delta_longitude)]"
   ]
  },
  {
   "cell_type": "code",
   "execution_count": 46,
   "id": "b2af07e8-dd9b-4200-acca-ca9061ee17ab",
   "metadata": {},
   "outputs": [
    {
     "data": {
      "text/plain": [
       "[(50.16841858664785, 14.46794411061371),\n",
       " (50.16841858664785, 14.608055889386291),\n",
       " (50.07798141335214, 14.608055889386291),\n",
       " (50.07798141335214, 14.46794411061371)]"
      ]
     },
     "execution_count": 46,
     "metadata": {},
     "output_type": "execute_result"
    }
   ],
   "source": [
    "center = (50.1232, 14.538) # prague smh\n",
    "width = 10\n",
    "box = create_bounding_box(*center, width)\n",
    "box"
   ]
  },
  {
   "cell_type": "code",
   "execution_count": 47,
   "id": "3b9635e6-5057-436d-9688-28999e5bb9f8",
   "metadata": {},
   "outputs": [],
   "source": [
    "LOGIN = 'kirschales@gmail.com'\n",
    "def authenticate(login: str, password: str) -> bytes | str:\n",
    "    data = {\n",
    "        'grant_type': 'password',\n",
    "        'username': login,\n",
    "        'password': password,\n",
    "        'client_id': 'cdse-public'\n",
    "    }\n",
    "    return json.loads(requests.post('https://identity.dataspace.copernicus.eu/auth/realms/CDSE/protocol/openid-connect/token', data).content)"
   ]
  },
  {
   "cell_type": "code",
   "execution_count": 48,
   "id": "781910a5-38f0-446b-8f75-831a982ebb79",
   "metadata": {},
   "outputs": [],
   "source": [
    "access_token = authenticate(LOGIN, PASSWORD)"
   ]
  },
  {
   "cell_type": "code",
   "execution_count": 49,
   "id": "c4cc2c07-cc39-4196-b02d-529abaceaad1",
   "metadata": {},
   "outputs": [],
   "source": [
    "name = \"S5P_NRTI_L2__AER_LH_20240914T100517_20240914T101017_35866_03_020701_20240914T104552.nc\""
   ]
  },
  {
   "cell_type": "code",
   "execution_count": 50,
   "id": "f899f994-ecec-48f0-89d3-0e05355f9296",
   "metadata": {},
   "outputs": [
    {
     "data": {
      "text/plain": [
       "[{'@odata.mediaContentType': 'application/octet-stream',\n",
       "  'Id': 'fdd7b8c5-add8-40b7-bf60-4ce4e4bef3f0',\n",
       "  'Name': 'S5P_NRTI_L2__AER_LH_20240914T100517_20240914T101017_35866_03_020701_20240914T104552.nc',\n",
       "  'ContentType': 'application/octet-stream',\n",
       "  'ContentLength': 16339653,\n",
       "  'OriginDate': '2024-09-14T11:00:08.967000Z',\n",
       "  'PublicationDate': '2024-09-14T11:05:46.838147Z',\n",
       "  'ModificationDate': '2024-09-14T11:05:48.545175Z',\n",
       "  'Online': True,\n",
       "  'EvictionDate': '9999-12-31T23:59:59.999999Z',\n",
       "  'S3Path': '/eodata/Sentinel-5P/TROPOMI/L2__AER_LH/2024/09/14/S5P_NRTI_L2__AER_LH_20240914T100517_20240914T101017_35866_03_020701_20240914T104552',\n",
       "  'Checksum': [{'Value': 'f91c93512ad3759f749dd74bf62783ec',\n",
       "    'Algorithm': 'MD5',\n",
       "    'ChecksumDate': '2024-09-14T11:05:48.152266Z'},\n",
       "   {'Value': '5142c1f1ba6561dea8f7231e1099dd9d3bc9dc97ecff60757c6926588328077c',\n",
       "    'Algorithm': 'BLAKE3',\n",
       "    'ChecksumDate': '2024-09-14T11:05:48.209087Z'}],\n",
       "  'ContentDate': {'Start': '2024-09-14T10:05:11.000000Z',\n",
       "   'End': '2024-09-14T10:10:24.000000Z'},\n",
       "  'Footprint': \"geography'SRID=4326;POLYGON ((33.9055 18.778887, 34.372364 17.346878, 34.825016 15.9125185, 35.264286 14.476092, 35.690727 13.037639, 36.104916 11.597311, 36.507458 10.155306, 36.898907 8.711782, 37.27952 7.2667456, 37.650158 5.8205414, 38.010925 4.37312, 38.362213 2.9246275, 38.704433 1.4751524, 38.850086 0.84683406, 38.927643 0.8776083, 40.64267 1.5554364, 42.715294 2.3589668, 44.231606 2.9244895, 45.43717 3.3521845, 46.450367 3.6914399, 47.33793 3.9704497, 48.14183 4.206868, 48.890965 4.4124637, 49.60704 4.5954285, 50.3079 4.7616377, 50.371426 4.7760754, 51.009712 4.915392, 51.72869 5.059886, 52.4828 5.1975374, 53.293865 5.330246, 54.190742 5.4596553, 55.214733 5.5874863, 56.430103 5.7161107, 57.947327 5.84975, 59.984543 5.99762, 61.91874 6.118009, 62.474987 6.150388, 62.17659 7.6008296, 61.885124 9.051664, 61.600906 10.502899, 61.32356 11.954356, 61.052814 13.405948, 60.788853 14.857795, 60.531204 16.309643, 60.280254 17.76152, 60.035583 19.213398, 59.797287 20.665045, 59.56516 22.116585, 59.339718 23.567938, 59.24387 24.196762, 59.153698 24.19738, 57.290905 24.1967, 54.83581 24.14966, 53.055542 24.072645, 51.653965 23.978607, 50.48836 23.872747, 49.478336 23.757391, 48.5735 23.6334, 47.739464 23.50066, 46.950825 23.358204, 46.187256 23.2042, 46.118458 23.189537, 45.430984 23.035803, 44.664913 22.848896, 43.870853 22.637636, 43.02746 22.393734, 42.10723 22.105158, 41.071507 21.753805, 39.860855 21.310823, 38.37413 20.726187, 36.413612 19.90095, 34.43975 19.023006, 33.9055 18.778887))'\",\n",
       "  'GeoFootprint': {'type': 'Polygon',\n",
       "   'coordinates': [[[33.9055, 18.778887],\n",
       "     [34.372364, 17.346878],\n",
       "     [34.825016, 15.9125185],\n",
       "     [35.264286, 14.476092],\n",
       "     [35.690727, 13.037639],\n",
       "     [36.104916, 11.597311],\n",
       "     [36.507458, 10.155306],\n",
       "     [36.898907, 8.711782],\n",
       "     [37.27952, 7.2667456],\n",
       "     [37.650158, 5.8205414],\n",
       "     [38.010925, 4.37312],\n",
       "     [38.362213, 2.9246275],\n",
       "     [38.704433, 1.4751524],\n",
       "     [38.850086, 0.84683406],\n",
       "     [38.927643, 0.8776083],\n",
       "     [40.64267, 1.5554364],\n",
       "     [42.715294, 2.3589668],\n",
       "     [44.231606, 2.9244895],\n",
       "     [45.43717, 3.3521845],\n",
       "     [46.450367, 3.6914399],\n",
       "     [47.33793, 3.9704497],\n",
       "     [48.14183, 4.206868],\n",
       "     [48.890965, 4.4124637],\n",
       "     [49.60704, 4.5954285],\n",
       "     [50.3079, 4.7616377],\n",
       "     [50.371426, 4.7760754],\n",
       "     [51.009712, 4.915392],\n",
       "     [51.72869, 5.059886],\n",
       "     [52.4828, 5.1975374],\n",
       "     [53.293865, 5.330246],\n",
       "     [54.190742, 5.4596553],\n",
       "     [55.214733, 5.5874863],\n",
       "     [56.430103, 5.7161107],\n",
       "     [57.947327, 5.84975],\n",
       "     [59.984543, 5.99762],\n",
       "     [61.91874, 6.118009],\n",
       "     [62.474987, 6.150388],\n",
       "     [62.17659, 7.6008296],\n",
       "     [61.885124, 9.051664],\n",
       "     [61.600906, 10.502899],\n",
       "     [61.32356, 11.954356],\n",
       "     [61.052814, 13.405948],\n",
       "     [60.788853, 14.857795],\n",
       "     [60.531204, 16.309643],\n",
       "     [60.280254, 17.76152],\n",
       "     [60.035583, 19.213398],\n",
       "     [59.797287, 20.665045],\n",
       "     [59.56516, 22.116585],\n",
       "     [59.339718, 23.567938],\n",
       "     [59.24387, 24.196762],\n",
       "     [59.153698, 24.19738],\n",
       "     [57.290905, 24.1967],\n",
       "     [54.83581, 24.14966],\n",
       "     [53.055542, 24.072645],\n",
       "     [51.653965, 23.978607],\n",
       "     [50.48836, 23.872747],\n",
       "     [49.478336, 23.757391],\n",
       "     [48.5735, 23.6334],\n",
       "     [47.739464, 23.50066],\n",
       "     [46.950825, 23.358204],\n",
       "     [46.187256, 23.2042],\n",
       "     [46.118458, 23.189537],\n",
       "     [45.430984, 23.035803],\n",
       "     [44.664913, 22.848896],\n",
       "     [43.870853, 22.637636],\n",
       "     [43.02746, 22.393734],\n",
       "     [42.10723, 22.105158],\n",
       "     [41.071507, 21.753805],\n",
       "     [39.860855, 21.310823],\n",
       "     [38.37413, 20.726187],\n",
       "     [36.413612, 19.90095],\n",
       "     [34.43975, 19.023006],\n",
       "     [33.9055, 18.778887]]]}}]"
      ]
     },
     "execution_count": 50,
     "metadata": {},
     "output_type": "execute_result"
    }
   ],
   "source": [
    "json.loads(requests.get(f\"https://catalogue.dataspace.copernicus.eu/odata/v1/Products?$filter=Name eq '{name}'\").content)['value']"
   ]
  },
  {
   "cell_type": "code",
   "execution_count": 51,
   "id": "e0a278b5-7460-4013-8f29-39e27e188ff4",
   "metadata": {},
   "outputs": [],
   "source": [
    "my_id = json.loads(requests.get(f\"https://catalogue.dataspace.copernicus.eu/odata/v1/Products?$filter=Name eq '{name}'\").content)['value'][0]['Id']"
   ]
  },
  {
   "cell_type": "code",
   "execution_count": 52,
   "id": "f124b34c-c11b-469e-86b6-70fd4d3ad6cf",
   "metadata": {},
   "outputs": [
    {
     "name": "stdout",
     "output_type": "stream",
     "text": [
      "Failed to download file. Status code: 401\n",
      "{\"detail\":\"Unauthorized\"}\n"
     ]
    }
   ],
   "source": [
    "url = f\"https://download.dataspace.copernicus.eu/odata/v1/Products({my_id})/$value\"\n",
    "\n",
    "headers = {\"Authorization\": f\"Bearer {access_token}\"}\n",
    "\n",
    "# Create a session and update headers\n",
    "session = requests.Session()\n",
    "session.headers.update(headers)\n",
    "\n",
    "# Perform the GET request\n",
    "response = session.get(url, stream=True)\n",
    "\n",
    "# Check if the request was successful\n",
    "if response.status_code == 200:\n",
    "    with open(\"product.zip\", \"wb\") as file:\n",
    "        for chunk in response.iter_content(chunk_size=8192):\n",
    "            if chunk:  # filter out keep-alive new chunks\n",
    "                file.write(chunk)\n",
    "else:\n",
    "    print(f\"Failed to download file. Status code: {response.status_code}\")\n",
    "    print(response.text)"
   ]
  },
  {
   "cell_type": "code",
   "execution_count": 61,
   "id": "c3872405-7ea3-42e4-8ed4-87f8e60639ba",
   "metadata": {},
   "outputs": [],
   "source": [
    "\n",
    "import datetime\n",
    "from shapely import Polygon\n",
    "import pandas as pd\n",
    "def contains_bbox(bbox, geometry):\n",
    "    bbox = Polygon(bbox)\n",
    "    geometry = Polygon(geometry)\n",
    "    return geometry.contains(bbox)\n",
    "\n",
    "def not_too_long(x):\n",
    "    start = x['properties']['start_datetime']\n",
    "    end = x['properties']['end_datetime']\n",
    "    start = datetime.datetime.fromisoformat(start)\n",
    "    end = datetime.datetime.fromisoformat(end)\n",
    "    return end - start < datetime.timedelta(hours=1)\n",
    "def get_new_updates(latitude: float,\n",
    "                    longitude: float,\n",
    "                    time_from: datetime.datetime,\n",
    "                    collection: str = \"SENTINEL-5P\",\n",
    "                    width: float | int = 10):\n",
    "    box = create_bounding_box(latitude, longitude, width)\n",
    "    items = list_items(collection, bbox=[box[0], box[2]], datetime_from=time_from)\n",
    "    items = [x for x in items if not_too_long(x)]\n",
    "    [x for x in items if contains_bbox(box, x['geometry']['coordinates'][0])]\n",
    "    datetimes = pd.DataFrame(data={'datetime': [datetime.datetime.fromisoformat(x['properties']['datetime']) for x in items]})\n",
    "    datetimes['date'] = datetimes['datetime'].dt.date\n",
    "    return list(datetimes.groupby(by=['date']).mean()['datetime'])\n",
    "    \n",
    "    \n",
    "    "
   ]
  },
  {
   "cell_type": "code",
   "execution_count": 66,
   "id": "4abd9bc3-f6a6-45a2-bc96-a7bbbcf251d4",
   "metadata": {},
   "outputs": [],
   "source": [
    "def get_all_updates(positions: list[tuple], time_from: datetime.datetime, collection: str = \"SENTINEL-5P\", width: float = 10) -> dict[tuple, list[datetime.datetime]]:\n",
    "    all_updates = {}\n",
    "    for position in positions:\n",
    "        new_updates = get_new_updates(\n",
    "            position[0],\n",
    "            position[1],\n",
    "            time_from,\n",
    "            collection,\n",
    "            width\n",
    "        )\n",
    "        if len(new_updates):\n",
    "            all_updates[position] = new_updates\n",
    "    return all_updates"
   ]
  },
  {
   "cell_type": "code",
   "execution_count": 62,
   "id": "8a792dce-3a90-4f6f-a951-daa0ca21f377",
   "metadata": {},
   "outputs": [
    {
     "data": {
      "text/plain": [
       "2"
      ]
     },
     "execution_count": 62,
     "metadata": {},
     "output_type": "execute_result"
    }
   ],
   "source": [
    "bruh = datetime.datetime(year=2021, month=5, day=8)\n",
    "items = get_new_updates(*center, bruh)\n",
    "len(items)"
   ]
  },
  {
   "cell_type": "code",
   "execution_count": 63,
   "id": "69533a29-5dbc-4fc3-82c4-6b73b540ff8d",
   "metadata": {},
   "outputs": [
    {
     "data": {
      "text/plain": [
       "[Timestamp('2021-05-08 09:12:52.979591936+0000', tz='UTC'),\n",
       " Timestamp('2021-05-09 08:50:01+0000', tz='UTC')]"
      ]
     },
     "execution_count": 63,
     "metadata": {},
     "output_type": "execute_result"
    }
   ],
   "source": [
    "items"
   ]
  },
  {
   "cell_type": "code",
   "execution_count": null,
   "id": "74c03f38-2dbe-46ac-8759-63317d5754d9",
   "metadata": {},
   "outputs": [],
   "source": []
  },
  {
   "cell_type": "code",
   "execution_count": null,
   "id": "afea37ef-98fc-44b6-9dd3-c85cbb0c287b",
   "metadata": {},
   "outputs": [],
   "source": []
  },
  {
   "cell_type": "code",
   "execution_count": null,
   "id": "ebffc92c-0236-4455-82fc-93a17f747f70",
   "metadata": {},
   "outputs": [],
   "source": []
  },
  {
   "cell_type": "code",
   "execution_count": null,
   "id": "ca6cd9d9-97e4-40eb-8aaf-95e6c2186f42",
   "metadata": {},
   "outputs": [],
   "source": []
  }
 ],
 "metadata": {
  "kernelspec": {
   "display_name": "Python 3 (ipykernel)",
   "language": "python",
   "name": "python3"
  },
  "language_info": {
   "codemirror_mode": {
    "name": "ipython",
    "version": 3
   },
   "file_extension": ".py",
   "mimetype": "text/x-python",
   "name": "python",
   "nbconvert_exporter": "python",
   "pygments_lexer": "ipython3",
   "version": "3.12.2"
  }
 },
 "nbformat": 4,
 "nbformat_minor": 5
}
